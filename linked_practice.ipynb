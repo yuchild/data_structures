{
 "cells": [
  {
   "cell_type": "code",
   "execution_count": 1,
   "id": "e9da568f-8ecb-403e-b039-c5fa4c4c0670",
   "metadata": {},
   "outputs": [],
   "source": [
    "class Node:\n",
    "    def __init__(self, data):\n",
    "        self.data = data\n",
    "        self.next = None"
   ]
  },
  {
   "cell_type": "code",
   "execution_count": 2,
   "id": "186955a6-44b6-46ee-85cf-0c49926afd11",
   "metadata": {},
   "outputs": [],
   "source": [
    "class lnlst:\n",
    "    def __init__(self):\n",
    "        self.head = None\n",
    "\n",
    "    def append(self, data):\n",
    "        \n",
    "        new_node = Node(data)\n",
    "\n",
    "        if not self.head:\n",
    "            self.head = new_node\n",
    "            return\n",
    "\n",
    "        last_node = self.head\n",
    "        \n",
    "        while last_node.next:\n",
    "            last_node = last_node.next\n",
    "\n",
    "        last_node.next = new_node\n",
    "\n",
    "    def prepend(self, data):\n",
    "        new_node = Node(data)\n",
    "        new_node.next = self.head\n",
    "        self.head = new_node\n",
    "\n",
    "    def deleted_with_value(self, data):\n",
    "\n",
    "        if not self.head:\n",
    "            return\n",
    "\n",
    "        if self.head.data == data:\n",
    "            self.head = self.head.next\n",
    "            return\n",
    "\n",
    "        prev_node = self.head\n",
    "        curr_node = self.head.next\n",
    "\n",
    "        while curr_node:\n",
    "            if curr_node.data == data:\n",
    "                prev_node.next = curr_node.next\n",
    "                return\n",
    "\n",
    "        pre_node = curr_node\n",
    "        curr_node = curr_node.next\n",
    "        \n",
    "    def find(self, data):\n",
    "        curr_node = self.head\n",
    "        while curr_node:\n",
    "            if curr_node.data == data:\n",
    "                return curr_node\n",
    "            curr_node = curr_node.next\n",
    "        return\n",
    "\n",
    "    def insert(self, position, data):\n",
    "\n",
    "        if position < 0 and type(position) != 'int':\n",
    "            raise ValueError(\"Position must be non-negative integer.\")\n",
    "\n",
    "        new_node = Node(data)\n",
    "\n",
    "        if position == 0:\n",
    "            new_node.next = self.head\n",
    "            self.head = new_node\n",
    "            return\n",
    "\n",
    "        curr_pos = 0\n",
    "        curr_node = self.head\n",
    "\n",
    "        while curr_node and cur_pos < position - 1:\n",
    "            curr_node = curr_node.next\n",
    "            curr_pose += 1\n",
    "\n",
    "\n",
    "        if not curr_node:\n",
    "            raise ValueError(\"Position out of bounds\")\n",
    "\n",
    "\n",
    "        new_node.next = curr_node.next\n",
    "        curr_node.next = new_node\n",
    "\n",
    "    def print_lst(self):\n",
    "        curr_node = self.head\n",
    "        while curr_node:\n",
    "            print(curr_node.data, end=' -> ')\n",
    "            curr_node = curr_node.next\n",
    "        print('None')"
   ]
  },
  {
   "cell_type": "code",
   "execution_count": 3,
   "id": "1c6fd4ce-558b-429e-bd84-456b4ffb0c90",
   "metadata": {},
   "outputs": [
    {
     "name": "stdout",
     "output_type": "stream",
     "text": [
      "1 -> 2 -> 3 -> None\n"
     ]
    }
   ],
   "source": [
    "lst1 = lnlst()\n",
    "\n",
    "lst1.append(1)\n",
    "lst1.append(2)\n",
    "lst1.append(3)\n",
    "\n",
    "lst1.print_lst()"
   ]
  },
  {
   "cell_type": "code",
   "execution_count": null,
   "id": "c725d373-0139-40b3-9341-42a95f195982",
   "metadata": {},
   "outputs": [],
   "source": []
  },
  {
   "cell_type": "code",
   "execution_count": null,
   "id": "6f627a5a-e6fe-449d-91ff-81e2d1a76380",
   "metadata": {},
   "outputs": [],
   "source": []
  },
  {
   "cell_type": "code",
   "execution_count": null,
   "id": "9a968591-8325-4135-847d-86f89f5b8902",
   "metadata": {},
   "outputs": [],
   "source": []
  },
  {
   "cell_type": "code",
   "execution_count": null,
   "id": "964369c6-9feb-4a68-9cab-e0fe7e12a621",
   "metadata": {},
   "outputs": [],
   "source": []
  },
  {
   "cell_type": "code",
   "execution_count": null,
   "id": "ec66d99a-30ff-49eb-8474-64b258b8b894",
   "metadata": {},
   "outputs": [],
   "source": []
  },
  {
   "cell_type": "code",
   "execution_count": null,
   "id": "11fc31a5-509a-413b-9e4c-5d114b16b9a2",
   "metadata": {},
   "outputs": [],
   "source": []
  }
 ],
 "metadata": {
  "kernelspec": {
   "display_name": "Python 3 (ipykernel)",
   "language": "python",
   "name": "python3"
  },
  "language_info": {
   "codemirror_mode": {
    "name": "ipython",
    "version": 3
   },
   "file_extension": ".py",
   "mimetype": "text/x-python",
   "name": "python",
   "nbconvert_exporter": "python",
   "pygments_lexer": "ipython3",
   "version": "3.10.14"
  }
 },
 "nbformat": 4,
 "nbformat_minor": 5
}
