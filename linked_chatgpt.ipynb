{
 "cells": [
  {
   "cell_type": "code",
   "execution_count": 1,
   "id": "f82ded86-77c9-4fc6-8c09-bbac10e0916c",
   "metadata": {},
   "outputs": [],
   "source": [
    "# I am having Chat GPT tech me linked lists"
   ]
  },
  {
   "cell_type": "code",
   "execution_count": 2,
   "id": "dc969b7e-e6c9-4ff3-948c-3fe50cb7d35d",
   "metadata": {},
   "outputs": [
    {
     "name": "stdout",
     "output_type": "stream",
     "text": [
      "Python 3.10.14\n"
     ]
    }
   ],
   "source": [
    "!python3 --version"
   ]
  },
  {
   "cell_type": "code",
   "execution_count": 3,
   "id": "9ac75b2b-f019-497f-8595-d96d089ed90c",
   "metadata": {},
   "outputs": [],
   "source": [
    "# 1st create a node class\n",
    "class Node:\n",
    "    def __init__(self, data):\n",
    "        self.data = data\n",
    "        self.next = None\n",
    "\n",
    "# 2nd create linked list class\n",
    "class LinkedList:\n",
    "    def __init__(self):\n",
    "        self.head = None # initializes head\n",
    "\n",
    "    def append(self, data):\n",
    "        new_node = Node(data)\n",
    "        if not self.head:\n",
    "            self.head = new_node\n",
    "            return ...\n",
    "        last_node = self.head\n",
    "        while last_node.next:\n",
    "            last_node = last_node.next\n",
    "        last_node.next = new_node\n",
    "\n",
    "    def prepend(self, data):\n",
    "        new_node = Node(data)\n",
    "        new_node.next = self.head\n",
    "        self.head = new_node\n",
    "\n",
    "    def deleted_with_value(self, data):\n",
    "        # delete first node with given data\n",
    "        if not self.head:\n",
    "            return ...\n",
    "        \n",
    "        if self.head.data == data:\n",
    "            self.head = self.head.next\n",
    "            return ...\n",
    "\n",
    "        prev_node = self.head\n",
    "        curr_node = self.head.next\n",
    "\n",
    "        while curr_node:\n",
    "            if curr_node.data == data:\n",
    "                prev_node.next = curr_node.next\n",
    "                return ...\n",
    "\n",
    "            prev_node = curr_node\n",
    "            curr_node = curr_node.next\n",
    "\n",
    "\n",
    "    def find_node(self, data):\n",
    "        curr_node = self.head\n",
    "        while curr_node:\n",
    "            if curr_node.data == data:\n",
    "                return curr_node\n",
    "            curr_node = curr_node.next\n",
    "        return ...\n",
    "\n",
    "    def insert_at_position(self, position, data):\n",
    "        # insert a new noede with given data at specified position\n",
    "        if position < 0 and type(position) != 'int':\n",
    "            raise ValueError(\"Position must be non-negative integer.\")\n",
    "\n",
    "        new_node = Node(data)\n",
    "\n",
    "        if position == 0:\n",
    "            new_node.next = self.head\n",
    "            self.head = new_node\n",
    "            return ...\n",
    "\n",
    "        current_pos = 0\n",
    "        current_node = self.head\n",
    "\n",
    "        while current_node and current_pos < position - 1:\n",
    "            current_node = current_node.next\n",
    "            current_pos += 1\n",
    "\n",
    "        if not current_node:\n",
    "            raise ValueError(\"Position out of bounds.\")\n",
    "\n",
    "        new_node.next = current_node.next\n",
    "        current_node.next = new_node\n",
    "    \n",
    "\n",
    "    def print_list(self):\n",
    "        # print all elments of list\n",
    "        curr_node = self.head\n",
    "        while curr_node:\n",
    "            print(curr_node.data, end=' -> ')\n",
    "            curr_node = curr_node.next\n",
    "        print(\"None\")"
   ]
  },
  {
   "cell_type": "code",
   "execution_count": 4,
   "id": "45b7b4c2-e07c-439b-b105-5103d3a459d7",
   "metadata": {},
   "outputs": [
    {
     "name": "stdout",
     "output_type": "stream",
     "text": [
      "1 -> 2 -> 3 -> None\n"
     ]
    }
   ],
   "source": [
    "list1 = LinkedList()\n",
    "list1.append(1)\n",
    "list1.append(2)\n",
    "list1.append(3)\n",
    "\n",
    "list1.print_list()"
   ]
  },
  {
   "cell_type": "code",
   "execution_count": 5,
   "id": "91249bd0-16cd-4496-9ac3-0a2c176a8ed3",
   "metadata": {},
   "outputs": [
    {
     "name": "stdout",
     "output_type": "stream",
     "text": [
      "0 -> 1 -> 2 -> 3 -> None\n"
     ]
    }
   ],
   "source": [
    "list1.prepend(0)\n",
    "list1.print_list()"
   ]
  },
  {
   "cell_type": "code",
   "execution_count": 6,
   "id": "fb844a47-cba9-4214-874f-fa429366a45f",
   "metadata": {},
   "outputs": [
    {
     "name": "stdout",
     "output_type": "stream",
     "text": [
      "0 -> 1 -> 3 -> None\n"
     ]
    }
   ],
   "source": [
    "list1.deleted_with_value(2)\n",
    "list1.print_list()"
   ]
  },
  {
   "cell_type": "code",
   "execution_count": 7,
   "id": "901a6525-6547-4a3f-9188-90df4d278d52",
   "metadata": {},
   "outputs": [
    {
     "name": "stdout",
     "output_type": "stream",
     "text": [
      "0 -> 1 -> 2 -> 3 -> None\n"
     ]
    }
   ],
   "source": [
    "list1.insert_at_position(2, 2)\n",
    "list1.print_list()"
   ]
  },
  {
   "cell_type": "code",
   "execution_count": 8,
   "id": "39e57b14-6837-4aed-85e3-f590a4f4f463",
   "metadata": {},
   "outputs": [
    {
     "name": "stdout",
     "output_type": "stream",
     "text": [
      "1 -> 2 -> 3 -> None\n"
     ]
    }
   ],
   "source": [
    "list1.deleted_with_value(0)\n",
    "list1.print_list()"
   ]
  },
  {
   "cell_type": "code",
   "execution_count": 9,
   "id": "09094ebf-0774-4e03-95d6-01ddc55efc16",
   "metadata": {},
   "outputs": [
    {
     "name": "stdout",
     "output_type": "stream",
     "text": [
      "0 -> 1 -> 2 -> 3 -> None\n"
     ]
    }
   ],
   "source": [
    "list1.insert_at_position(0,0)\n",
    "list1.print_list()"
   ]
  },
  {
   "cell_type": "code",
   "execution_count": 10,
   "id": "817e7ca5-14be-4a39-b652-8d7070618bf9",
   "metadata": {},
   "outputs": [
    {
     "name": "stdout",
     "output_type": "stream",
     "text": [
      "0 -> 1 -> 2 -> 3 -> 4 -> None\n"
     ]
    }
   ],
   "source": [
    "list1.insert_at_position(4, 4)\n",
    "list1.print_list()"
   ]
  },
  {
   "cell_type": "code",
   "execution_count": 11,
   "id": "c118179b-d76d-4b4b-ac0f-9da49b4afbfe",
   "metadata": {},
   "outputs": [
    {
     "name": "stdout",
     "output_type": "stream",
     "text": [
      "Position out of bounds.\n"
     ]
    }
   ],
   "source": [
    "try:\n",
    "    list1.insert_at_position(10,6)\n",
    "except ValueError as e:\n",
    "    print(e)"
   ]
  },
  {
   "cell_type": "code",
   "execution_count": null,
   "id": "528aeb9b-8dd0-4666-a69f-cb36ac0f0a04",
   "metadata": {},
   "outputs": [],
   "source": []
  }
 ],
 "metadata": {
  "kernelspec": {
   "display_name": "Python 3 (ipykernel)",
   "language": "python",
   "name": "python3"
  },
  "language_info": {
   "codemirror_mode": {
    "name": "ipython",
    "version": 3
   },
   "file_extension": ".py",
   "mimetype": "text/x-python",
   "name": "python",
   "nbconvert_exporter": "python",
   "pygments_lexer": "ipython3",
   "version": "3.10.14"
  }
 },
 "nbformat": 4,
 "nbformat_minor": 5
}
