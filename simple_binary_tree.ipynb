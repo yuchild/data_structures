{
 "cells": [
  {
   "cell_type": "code",
   "execution_count": 4,
   "id": "24fa55f4",
   "metadata": {},
   "outputs": [],
   "source": [
    "class newNode:\n",
    "    def __init__(self, key):\n",
    "        self.key = key\n",
    "        self.left = None\n",
    "        self.right = None\n",
    "        \n",
    "def sumBT(root):\n",
    "    \n",
    "    sum_bt = 0\n",
    "    q = []\n",
    "    \n",
    "    q.append(root)\n",
    "    \n",
    "    while len(q) > 0:\n",
    "        temp = q.pop(0)\n",
    "        \n",
    "        sum_bt += temp.key\n",
    "        \n",
    "        if (temp.left != None):\n",
    "            q.append(temp.left)\n",
    "        if (temp.right != None):\n",
    "            q.append(temp.right)\n",
    "    \n",
    "    return sum_bt"
   ]
  },
  {
   "cell_type": "code",
   "execution_count": 5,
   "id": "64109871",
   "metadata": {},
   "outputs": [
    {
     "name": "stdout",
     "output_type": "stream",
     "text": [
      "Sum of all elements in the binary tree is:  36\n"
     ]
    }
   ],
   "source": [
    "root = newNode(1)\n",
    "root.left = newNode(2)\n",
    "root.right = newNode(3)\n",
    "root.left.left = newNode(4)\n",
    "root.left.right = newNode(5)\n",
    "root.right.left = newNode(6)\n",
    "root.right.right = newNode(7)\n",
    "root.right.left.right = newNode(8)\n",
    "\n",
    "print(\"Sum of all elements in the binary tree is: \", sumBT(root))"
   ]
  },
  {
   "cell_type": "code",
   "execution_count": 17,
   "id": "a87f2c76",
   "metadata": {},
   "outputs": [
    {
     "name": "stdout",
     "output_type": "stream",
     "text": [
      "Sum of all elements in the binary tree is:  36\n"
     ]
    }
   ],
   "source": [
    "class bt0:\n",
    "    def __init__(self, node):\n",
    "        self.node = node\n",
    "        self.left = None\n",
    "        self.right = None\n",
    "        \n",
    "def sum_bt0(node):\n",
    "    sum_all = 0\n",
    "    lst = []\n",
    "    lst.append(node)\n",
    "    \n",
    "    while len(lst) > 0:\n",
    "        temp = lst.pop(0)\n",
    "        sum_all += temp.node\n",
    "        \n",
    "        if (temp.left != None):\n",
    "            lst.append(temp.left)\n",
    "        if (temp.right != None):\n",
    "            lst.append(temp.right)\n",
    "    \n",
    "    return sum_all\n",
    "\n",
    "root = bt0(1)\n",
    "root.left = bt0(2)\n",
    "root.right = bt0(3)\n",
    "root.left.left = bt0(4)\n",
    "root.left.right = bt0(5)\n",
    "root.right.left = bt0(6)\n",
    "root.right.right = bt0(7)\n",
    "root.right.left.right = bt0(8)\n",
    " \n",
    "print(\"Sum of all elements in the binary tree is: \", sum_bt0(root))\n",
    " \n",
    "\n",
    "\n",
    "    \n",
    "    "
   ]
  },
  {
   "cell_type": "code",
   "execution_count": 21,
   "id": "5fc8441c",
   "metadata": {},
   "outputs": [
    {
     "name": "stdout",
     "output_type": "stream",
     "text": [
      "Sum of all elements in the binary tree is:  36\n"
     ]
    }
   ],
   "source": [
    "class bt1:\n",
    "    def __init__(self, key):\n",
    "        self.key = key\n",
    "        self.right = None\n",
    "        self.left = None\n",
    "        \n",
    "def sum_bt1(key):\n",
    "    \n",
    "    sum_bt1 = 0\n",
    "    \n",
    "    lst1 = []\n",
    "    \n",
    "    lst1.append(key)\n",
    "    \n",
    "    while len(lst1) > 0:\n",
    "        temp = lst1.pop(0)\n",
    "        sum_bt1 += temp.key\n",
    "        \n",
    "        if (temp.right != None):\n",
    "            lst1.append(temp.right)\n",
    "        if (temp.left != None):\n",
    "            lst1.append(temp.left)\n",
    "    \n",
    "    return sum_bt1\n",
    "\n",
    "root = bt1(1)\n",
    "root.left = bt1(2)\n",
    "root.right = bt1(3)\n",
    "root.left.left = bt1(4)\n",
    "root.left.right = bt1(5)\n",
    "root.right.left = bt1(6)\n",
    "root.right.right = bt1(7)\n",
    "root.right.left.right = bt1(8)\n",
    "\n",
    "print(\"Sum of all elements in the binary tree is: \", sum_bt1(root))"
   ]
  },
  {
   "cell_type": "code",
   "execution_count": 22,
   "id": "1bb11513",
   "metadata": {},
   "outputs": [
    {
     "name": "stdout",
     "output_type": "stream",
     "text": [
      "Sum of all elements in the binary tree is:  36\n"
     ]
    }
   ],
   "source": [
    "class bt2:\n",
    "    def __init__(self, node):\n",
    "        self.node = node\n",
    "        self.right = None\n",
    "        self.left = None\n",
    "        \n",
    "def sum_bt2(node):\n",
    "    sum_ = 0\n",
    "    lst = []\n",
    "    lst.append(node)\n",
    "    \n",
    "    while len(lst) > 0:\n",
    "        tmp = lst.pop(0)\n",
    "        sum_ += tmp.node\n",
    "        \n",
    "        if (tmp.right != None):\n",
    "            lst.append(tmp.right)\n",
    "        if (tmp.left != None):\n",
    "            lst.append(tmp.left)\n",
    "    \n",
    "    return sum_\n",
    "\n",
    "root = bt2(1)\n",
    "root.left = bt2(2)\n",
    "root.right = bt2(3)\n",
    "root.left.left = bt2(4)\n",
    "root.left.right = bt2(5)\n",
    "root.right.left = bt2(6)\n",
    "root.right.right = bt2(7)\n",
    "root.right.left.right = bt2(8)\n",
    "\n",
    "print(\"Sum of all elements in the binary tree is: \", sum_bt2(root))"
   ]
  },
  {
   "cell_type": "code",
   "execution_count": 26,
   "id": "3a72b5c0",
   "metadata": {},
   "outputs": [
    {
     "name": "stdout",
     "output_type": "stream",
     "text": [
      "Sum of all elements in the binary tree is:  36\n"
     ]
    }
   ],
   "source": [
    "class bt3:\n",
    "    def __init__(self, rt_node):\n",
    "        self.rt_node = rt_node\n",
    "        self.right = None\n",
    "        self.left = None\n",
    "        \n",
    "def sum_bt3(node):\n",
    "    lst = []\n",
    "    sum_ = 0\n",
    "    lst.append(node)\n",
    "    \n",
    "    while (len(lst) > 0):\n",
    "        tmp = lst.pop(0)\n",
    "        sum_ += tmp.rt_node\n",
    "        \n",
    "        if (tmp.right != None):\n",
    "            lst.append(tmp.right)\n",
    "            \n",
    "        if (tmp.left != None):\n",
    "            lst.append(tmp.left)\n",
    "    \n",
    "    return sum_\n",
    "\n",
    "root = bt3(1)\n",
    "root.left = bt3(2)\n",
    "root.right = bt3(3)\n",
    "root.left.left = bt3(4)\n",
    "root.left.right = bt3(5)\n",
    "root.right.left = bt3(6)\n",
    "root.right.right = bt3(7)\n",
    "root.right.left.right = bt3(8)\n",
    "\n",
    "print(\"Sum of all elements in the binary tree is: \", sum_bt3(root))"
   ]
  },
  {
   "cell_type": "code",
   "execution_count": 27,
   "id": "12d9c463",
   "metadata": {},
   "outputs": [
    {
     "name": "stdout",
     "output_type": "stream",
     "text": [
      "Sum of all elements in the binary tree is:  36\n"
     ]
    }
   ],
   "source": [
    "class bt3:\n",
    "    def __init__(self, base):\n",
    "        self.base = base\n",
    "        self.right = None\n",
    "        self.left = None\n",
    "        \n",
    "def sum_bt3(tree):\n",
    "    lst = []\n",
    "    sum_ = 0\n",
    "    lst.append(tree)\n",
    "    \n",
    "    while (len(lst) > 0):\n",
    "        tmp = lst.pop(0)\n",
    "        sum_ += tmp.base\n",
    "        \n",
    "        if (tmp.right != None):\n",
    "            lst.append(tmp.right)\n",
    "        if (tmp.left != None):\n",
    "            lst.append(tmp.left)\n",
    "    \n",
    "    return sum_\n",
    "\n",
    "\n",
    "root = bt3(1)\n",
    "root.left = bt3(2)\n",
    "root.right = bt3(3)\n",
    "root.left.left = bt3(4)\n",
    "root.left.right = bt3(5)\n",
    "root.right.left = bt3(6)\n",
    "root.right.right = bt3(7)\n",
    "root.right.left.right = bt3(8)\n",
    "\n",
    "print(\"Sum of all elements in the binary tree is: \", sum_bt3(root))"
   ]
  },
  {
   "cell_type": "code",
   "execution_count": 29,
   "id": "06dd7032",
   "metadata": {},
   "outputs": [
    {
     "name": "stdout",
     "output_type": "stream",
     "text": [
      "Sum of all elements in the binary tree is:  36\n"
     ]
    }
   ],
   "source": [
    "class bt4:\n",
    "    def __init__(self, base):\n",
    "        self.base = base\n",
    "        self.right = None\n",
    "        self.left = None\n",
    "        \n",
    "def sum_bt4(tree):\n",
    "    lst = []\n",
    "    sum_ = 0\n",
    "    lst.append(tree)\n",
    "    \n",
    "    while (len(lst) > 0):\n",
    "        tmp = lst.pop(0)\n",
    "        sum_ += tmp.base\n",
    "        \n",
    "        if (tmp.left != None):\n",
    "            lst.append(tmp.left)\n",
    "        if (tmp.right != None):\n",
    "            lst.append(tmp.right)\n",
    "        \n",
    "    return sum_\n",
    "\n",
    "\n",
    "root = bt4(1)\n",
    "root.left = bt4(2)\n",
    "root.right = bt4(3)\n",
    "root.left.left = bt4(4)\n",
    "root.left.right = bt4(5)\n",
    "root.right.left = bt4(6)\n",
    "root.right.right = bt4(7)\n",
    "root.right.left.right = bt4(8)\n",
    "\n",
    "print(\"Sum of all elements in the binary tree is: \", sum_bt4(root))\n",
    "        "
   ]
  },
  {
   "cell_type": "code",
   "execution_count": 31,
   "id": "6e42deb9",
   "metadata": {},
   "outputs": [
    {
     "name": "stdout",
     "output_type": "stream",
     "text": [
      "Sum of all elements in the binary tree is:  36\n"
     ]
    }
   ],
   "source": [
    "class bt5:\n",
    "    def __init__(self, base):\n",
    "        self.base = base\n",
    "        self.right = None\n",
    "        self.left = None\n",
    "        \n",
    "def sum_bt5(tree):\n",
    "    lst = []\n",
    "    sum_ = 0\n",
    "    lst.append(tree)\n",
    "    \n",
    "    while (len(lst) > 0):\n",
    "        tmp = lst.pop(0)\n",
    "        sum_ += tmp.base\n",
    "        \n",
    "        if (tmp.right != None):\n",
    "            lst.append(tmp.right)\n",
    "        if (tmp.left != None):\n",
    "            lst.append(tmp.left)\n",
    "    \n",
    "    return sum_\n",
    "\n",
    "\n",
    "root = bt5(1)\n",
    "root.left = bt5(2)\n",
    "root.right = bt5(3)\n",
    "root.left.left = bt5(4)\n",
    "root.left.right = bt5(5)\n",
    "root.right.left = bt5(6)\n",
    "root.right.right = bt5(7)\n",
    "root.right.left.right = bt5(8)\n",
    "\n",
    "print(\"Sum of all elements in the binary tree is: \", sum_bt5(root))\n",
    "    \n",
    "    "
   ]
  },
  {
   "cell_type": "code",
   "execution_count": 34,
   "id": "d72689fa",
   "metadata": {},
   "outputs": [
    {
     "name": "stdout",
     "output_type": "stream",
     "text": [
      "Sum of all elements in the left branchs of binary tree is:  7\n"
     ]
    }
   ],
   "source": [
    "class bt6:\n",
    "    def __init__(self, base):\n",
    "        self.base = base\n",
    "        self.right = None\n",
    "        self.left = None\n",
    "        \n",
    "def sum_left_bt6(tree):\n",
    "    lst = []\n",
    "    sum_ = 0\n",
    "    lst.append(tree)\n",
    "    \n",
    "    while (len(lst) > 0):\n",
    "        tmp = lst.pop(0)\n",
    "        sum_ += tmp.base\n",
    "        \n",
    "        if (tmp.left != None):\n",
    "            lst.append(tmp.left)\n",
    "    \n",
    "    return sum_\n",
    "\n",
    "\n",
    "root = bt6(1)\n",
    "root.left = bt6(2)\n",
    "root.right = bt6(3)\n",
    "root.left.left = bt6(4)\n",
    "root.left.right = bt6(5)\n",
    "root.right.left = bt6(6)\n",
    "root.right.right = bt6(7)\n",
    "root.right.left.right = bt6(8)\n",
    "\n",
    "print(\"Sum of all elements in the left branchs of binary tree is: \", sum_left_bt6(root))"
   ]
  },
  {
   "cell_type": "code",
   "execution_count": 41,
   "id": "f56a77ff",
   "metadata": {},
   "outputs": [
    {
     "name": "stdout",
     "output_type": "stream",
     "text": [
      "Sum of all elements in the right branches of the binary tree is:  11\n"
     ]
    }
   ],
   "source": [
    "class bt7:\n",
    "    def __init__(self, base):\n",
    "        self.base = base\n",
    "        self.left = None\n",
    "        self.right = None\n",
    "\n",
    "def sum_right_bt7(tree):\n",
    "    lst = []\n",
    "    sum_ = 0\n",
    "    lst.append(tree)\n",
    "    \n",
    "    while (len(lst) > 0):\n",
    "        tmp = lst.pop(0)\n",
    "        sum_ += tmp.base\n",
    "        \n",
    "        if (tmp.right != None):\n",
    "            lst.append(tmp.right)\n",
    "            \n",
    "    return sum_\n",
    "\n",
    "\n",
    "root = bt7(1)\n",
    "root.left = bt7(2)\n",
    "root.right = bt7(3)\n",
    "root.left.left = bt7(4)\n",
    "root.left.right = bt7(5)\n",
    "root.right.left = bt7(6)\n",
    "root.right.right = bt7(7)\n",
    "root.right.left.right = bt7(8)\n",
    "\n",
    "print(\"Sum of all elements in the right branches of the binary tree is: \", sum_right_bt7(root))"
   ]
  },
  {
   "cell_type": "code",
   "execution_count": 44,
   "id": "87d52ac3",
   "metadata": {},
   "outputs": [
    {
     "name": "stdout",
     "output_type": "stream",
     "text": [
      "Sum of all elements in the right branches of the binary tree is:  36\n"
     ]
    }
   ],
   "source": [
    "class bt8:\n",
    "    def __init__(self, base):\n",
    "        self.base = base\n",
    "        self.right = None\n",
    "        self.left = None\n",
    "\n",
    "def sum_bt8(tree):\n",
    "    lst = []\n",
    "    sum_ = 0\n",
    "    lst.append(tree)\n",
    "    \n",
    "    while (len(lst) > 0):\n",
    "        tmp = lst.pop(0)\n",
    "        sum_ += tmp.base\n",
    "        \n",
    "        if (tmp.right != None):\n",
    "            lst.append(tmp.right)\n",
    "        if (tmp.left != None):\n",
    "            lst.append(tmp.left)\n",
    "            \n",
    "    return sum_\n",
    "\n",
    "\n",
    "root = bt8(1)\n",
    "root.left = bt8(2)\n",
    "root.right = bt8(3)\n",
    "root.left.left = bt8(4)\n",
    "root.left.right = bt8(5)\n",
    "root.right.left = bt8(6)\n",
    "root.right.right = bt8(7)\n",
    "root.right.left.right = bt8(8)\n",
    "\n",
    "print(\"Sum of all elements in the right branches of the binary tree is: \", sum_bt8(root))"
   ]
  },
  {
   "cell_type": "code",
   "execution_count": null,
   "id": "5398676e",
   "metadata": {},
   "outputs": [],
   "source": []
  },
  {
   "cell_type": "code",
   "execution_count": null,
   "id": "fec4b9f3",
   "metadata": {},
   "outputs": [],
   "source": []
  },
  {
   "cell_type": "code",
   "execution_count": null,
   "id": "ba75e6c9",
   "metadata": {},
   "outputs": [],
   "source": []
  },
  {
   "cell_type": "code",
   "execution_count": null,
   "id": "a4e76ae3",
   "metadata": {},
   "outputs": [],
   "source": []
  },
  {
   "cell_type": "code",
   "execution_count": null,
   "id": "960ad2e6",
   "metadata": {},
   "outputs": [],
   "source": []
  },
  {
   "cell_type": "code",
   "execution_count": null,
   "id": "41a14ca2",
   "metadata": {},
   "outputs": [],
   "source": []
  },
  {
   "cell_type": "code",
   "execution_count": null,
   "id": "8c62fb2e",
   "metadata": {},
   "outputs": [],
   "source": []
  },
  {
   "cell_type": "code",
   "execution_count": null,
   "id": "f4731ab7",
   "metadata": {},
   "outputs": [],
   "source": []
  }
 ],
 "metadata": {
  "kernelspec": {
   "display_name": "Python 3 (ipykernel)",
   "language": "python",
   "name": "python3"
  },
  "language_info": {
   "codemirror_mode": {
    "name": "ipython",
    "version": 3
   },
   "file_extension": ".py",
   "mimetype": "text/x-python",
   "name": "python",
   "nbconvert_exporter": "python",
   "pygments_lexer": "ipython3",
   "version": "3.12.3"
  }
 },
 "nbformat": 4,
 "nbformat_minor": 5
}
