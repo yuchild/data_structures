{
 "cells": [
  {
   "cell_type": "code",
   "execution_count": 4,
   "id": "24fa55f4",
   "metadata": {},
   "outputs": [],
   "source": [
    "class newNode:\n",
    "    def __init__(self, key):\n",
    "        self.key = key\n",
    "        self.left = None\n",
    "        self.right = None\n",
    "        \n",
    "def sumBT(root):\n",
    "    \n",
    "    sum_bt = 0\n",
    "    q = []\n",
    "    \n",
    "    q.append(root)\n",
    "    \n",
    "    while len(q) > 0:\n",
    "        temp = q.pop(0)\n",
    "        \n",
    "        sum_bt += temp.key\n",
    "        \n",
    "        if (temp.left != None):\n",
    "            q.append(temp.left)\n",
    "        if (temp.right != None):\n",
    "            q.append(temp.right)\n",
    "    \n",
    "    return sum_bt"
   ]
  },
  {
   "cell_type": "code",
   "execution_count": 5,
   "id": "726066e9",
   "metadata": {},
   "outputs": [
    {
     "name": "stdout",
     "output_type": "stream",
     "text": [
      "Sum of all elements in the binary tree is:  36\n"
     ]
    }
   ],
   "source": [
    "root = newNode(1)\n",
    "root.left = newNode(2)\n",
    "root.right = newNode(3)\n",
    "root.left.left = newNode(4)\n",
    "root.left.right = newNode(5)\n",
    "root.right.left = newNode(6)\n",
    "root.right.right = newNode(7)\n",
    "root.right.left.right = newNode(8)\n",
    "\n",
    "print(\"Sum of all elements in the binary tree is: \", sumBT(root))"
   ]
  },
  {
   "cell_type": "code",
   "execution_count": 17,
   "id": "51cc7f03",
   "metadata": {},
   "outputs": [
    {
     "name": "stdout",
     "output_type": "stream",
     "text": [
      "Sum of all elements in the binary tree is:  36\n"
     ]
    }
   ],
   "source": [
    "class bt0:\n",
    "    def __init__(self, node):\n",
    "        self.node = node\n",
    "        self.left = None\n",
    "        self.right = None\n",
    "        \n",
    "def sum_bt0(node):\n",
    "    sum_all = 0\n",
    "    lst = []\n",
    "    lst.append(node)\n",
    "    \n",
    "    while len(lst) > 0:\n",
    "        temp = lst.pop(0)\n",
    "        sum_all += temp.node\n",
    "        \n",
    "        if (temp.left != None):\n",
    "            lst.append(temp.left)\n",
    "        if (temp.right != None):\n",
    "            lst.append(temp.right)\n",
    "    \n",
    "    return sum_all\n",
    "\n",
    "root = bt0(1)\n",
    "root.left = bt0(2)\n",
    "root.right = bt0(3)\n",
    "root.left.left = bt0(4)\n",
    "root.left.right = bt0(5)\n",
    "root.right.left = bt0(6)\n",
    "root.right.right = bt0(7)\n",
    "root.right.left.right = bt0(8)\n",
    " \n",
    "print(\"Sum of all elements in the binary tree is: \", sum_bt0(root))\n",
    " \n",
    "\n",
    "\n",
    "    \n",
    "    "
   ]
  },
  {
   "cell_type": "code",
   "execution_count": 21,
   "id": "437a9bbd",
   "metadata": {},
   "outputs": [
    {
     "name": "stdout",
     "output_type": "stream",
     "text": [
      "Sum of all elements in the binary tree is:  36\n"
     ]
    }
   ],
   "source": [
    "class bt1:\n",
    "    def __init__(self, key):\n",
    "        self.key = key\n",
    "        self.right = None\n",
    "        self.left = None\n",
    "        \n",
    "def sum_bt1(key):\n",
    "    \n",
    "    sum_bt1 = 0\n",
    "    \n",
    "    lst1 = []\n",
    "    \n",
    "    lst1.append(key)\n",
    "    \n",
    "    while len(lst1) > 0:\n",
    "        temp = lst1.pop(0)\n",
    "        sum_bt1 += temp.key\n",
    "        \n",
    "        if (temp.right != None):\n",
    "            lst1.append(temp.right)\n",
    "        if (temp.left != None):\n",
    "            lst1.append(temp.left)\n",
    "    \n",
    "    return sum_bt1\n",
    "\n",
    "root = bt1(1)\n",
    "root.left = bt1(2)\n",
    "root.right = bt1(3)\n",
    "root.left.left = bt1(4)\n",
    "root.left.right = bt1(5)\n",
    "root.right.left = bt1(6)\n",
    "root.right.right = bt1(7)\n",
    "root.right.left.right = bt1(8)\n",
    "\n",
    "print(\"Sum of all elements in the binary tree is: \", sum_bt1(root))"
   ]
  },
  {
   "cell_type": "code",
   "execution_count": 22,
   "id": "b924bf04",
   "metadata": {},
   "outputs": [
    {
     "name": "stdout",
     "output_type": "stream",
     "text": [
      "Sum of all elements in the binary tree is:  36\n"
     ]
    }
   ],
   "source": [
    "class bt2:\n",
    "    def __init__(self, node):\n",
    "        self.node = node\n",
    "        self.right = None\n",
    "        self.left = None\n",
    "        \n",
    "def sum_bt2(node):\n",
    "    sum_ = 0\n",
    "    lst = []\n",
    "    lst.append(node)\n",
    "    \n",
    "    while len(lst) > 0:\n",
    "        tmp = lst.pop(0)\n",
    "        sum_ += tmp.node\n",
    "        \n",
    "        if (tmp.right != None):\n",
    "            lst.append(tmp.right)\n",
    "        if (tmp.left != None):\n",
    "            lst.append(tmp.left)\n",
    "    \n",
    "    return sum_\n",
    "\n",
    "root = bt2(1)\n",
    "root.left = bt2(2)\n",
    "root.right = bt2(3)\n",
    "root.left.left = bt2(4)\n",
    "root.left.right = bt2(5)\n",
    "root.right.left = bt2(6)\n",
    "root.right.right = bt2(7)\n",
    "root.right.left.right = bt2(8)\n",
    "\n",
    "print(\"Sum of all elements in the binary tree is: \", sum_bt2(root))"
   ]
  },
  {
   "cell_type": "code",
   "execution_count": 26,
   "id": "23f07e64",
   "metadata": {},
   "outputs": [
    {
     "name": "stdout",
     "output_type": "stream",
     "text": [
      "Sum of all elements in the binary tree is:  36\n"
     ]
    }
   ],
   "source": [
    "class bt3:\n",
    "    def __init__(self, rt_node):\n",
    "        self.rt_node = rt_node\n",
    "        self.right = None\n",
    "        self.left = None\n",
    "        \n",
    "def sum_bt3(node):\n",
    "    lst = []\n",
    "    sum_ = 0\n",
    "    lst.append(node)\n",
    "    \n",
    "    while (len(lst) > 0):\n",
    "        tmp = lst.pop(0)\n",
    "        sum_ += tmp.rt_node\n",
    "        \n",
    "        if (tmp.right != None):\n",
    "            lst.append(tmp.right)\n",
    "            \n",
    "        if (tmp.left != None):\n",
    "            lst.append(tmp.left)\n",
    "    \n",
    "    return sum_\n",
    "\n",
    "root = bt3(1)\n",
    "root.left = bt3(2)\n",
    "root.right = bt3(3)\n",
    "root.left.left = bt3(4)\n",
    "root.left.right = bt3(5)\n",
    "root.right.left = bt3(6)\n",
    "root.right.right = bt3(7)\n",
    "root.right.left.right = bt3(8)\n",
    "\n",
    "print(\"Sum of all elements in the binary tree is: \", sum_bt3(root))"
   ]
  },
  {
   "cell_type": "code",
   "execution_count": 27,
   "id": "64589817",
   "metadata": {},
   "outputs": [
    {
     "name": "stdout",
     "output_type": "stream",
     "text": [
      "Sum of all elements in the binary tree is:  36\n"
     ]
    }
   ],
   "source": [
    "class bt3:\n",
    "    def __init__(self, base):\n",
    "        self.base = base\n",
    "        self.right = None\n",
    "        self.left = None\n",
    "        \n",
    "def sum_bt3(tree):\n",
    "    lst = []\n",
    "    sum_ = 0\n",
    "    lst.append(tree)\n",
    "    \n",
    "    while (len(lst) > 0):\n",
    "        tmp = lst.pop(0)\n",
    "        sum_ += tmp.base\n",
    "        \n",
    "        if (tmp.right != None):\n",
    "            lst.append(tmp.right)\n",
    "        if (tmp.left != None):\n",
    "            lst.append(tmp.left)\n",
    "    \n",
    "    return sum_\n",
    "\n",
    "\n",
    "root = bt3(1)\n",
    "root.left = bt3(2)\n",
    "root.right = bt3(3)\n",
    "root.left.left = bt3(4)\n",
    "root.left.right = bt3(5)\n",
    "root.right.left = bt3(6)\n",
    "root.right.right = bt3(7)\n",
    "root.right.left.right = bt3(8)\n",
    "\n",
    "print(\"Sum of all elements in the binary tree is: \", sum_bt3(root))"
   ]
  },
  {
   "cell_type": "code",
   "execution_count": 29,
   "id": "69aaf130",
   "metadata": {},
   "outputs": [
    {
     "name": "stdout",
     "output_type": "stream",
     "text": [
      "Sum of all elements in the binary tree is:  36\n"
     ]
    }
   ],
   "source": [
    "class bt4:\n",
    "    def __init__(self, base):\n",
    "        self.base = base\n",
    "        self.right = None\n",
    "        self.left = None\n",
    "        \n",
    "def sum_bt4(tree):\n",
    "    lst = []\n",
    "    sum_ = 0\n",
    "    lst.append(tree)\n",
    "    \n",
    "    while (len(lst) > 0):\n",
    "        tmp = lst.pop(0)\n",
    "        sum_ += tmp.base\n",
    "        \n",
    "        if (tmp.left != None):\n",
    "            lst.append(tmp.left)\n",
    "        if (tmp.right != None):\n",
    "            lst.append(tmp.right)\n",
    "        \n",
    "    return sum_\n",
    "\n",
    "\n",
    "root = bt4(1)\n",
    "root.left = bt4(2)\n",
    "root.right = bt4(3)\n",
    "root.left.left = bt4(4)\n",
    "root.left.right = bt4(5)\n",
    "root.right.left = bt4(6)\n",
    "root.right.right = bt4(7)\n",
    "root.right.left.right = bt4(8)\n",
    "\n",
    "print(\"Sum of all elements in the binary tree is: \", sum_bt4(root))\n",
    "        "
   ]
  },
  {
   "cell_type": "code",
   "execution_count": 31,
   "id": "ecd1181c",
   "metadata": {},
   "outputs": [
    {
     "name": "stdout",
     "output_type": "stream",
     "text": [
      "Sum of all elements in the binary tree is:  36\n"
     ]
    }
   ],
   "source": [
    "class bt5:\n",
    "    def __init__(self, base):\n",
    "        self.base = base\n",
    "        self.right = None\n",
    "        self.left = None\n",
    "        \n",
    "def sum_bt5(tree):\n",
    "    lst = []\n",
    "    sum_ = 0\n",
    "    lst.append(tree)\n",
    "    \n",
    "    while (len(lst) > 0):\n",
    "        tmp = lst.pop(0)\n",
    "        sum_ += tmp.base\n",
    "        \n",
    "        if (tmp.right != None):\n",
    "            lst.append(tmp.right)\n",
    "        if (tmp.left != None):\n",
    "            lst.append(tmp.left)\n",
    "    \n",
    "    return sum_\n",
    "\n",
    "\n",
    "root = bt5(1)\n",
    "root.left = bt5(2)\n",
    "root.right = bt5(3)\n",
    "root.left.left = bt5(4)\n",
    "root.left.right = bt5(5)\n",
    "root.right.left = bt5(6)\n",
    "root.right.right = bt5(7)\n",
    "root.right.left.right = bt5(8)\n",
    "\n",
    "print(\"Sum of all elements in the binary tree is: \", sum_bt5(root))\n",
    "    \n",
    "    "
   ]
  },
  {
   "cell_type": "code",
   "execution_count": 34,
   "id": "8fdeff83",
   "metadata": {},
   "outputs": [
    {
     "name": "stdout",
     "output_type": "stream",
     "text": [
      "Sum of all elements in the left branchs of binary tree is:  7\n"
     ]
    }
   ],
   "source": [
    "class bt6:\n",
    "    def __init__(self, base):\n",
    "        self.base = base\n",
    "        self.right = None\n",
    "        self.left = None\n",
    "        \n",
    "def sum_left_bt6(tree):\n",
    "    lst = []\n",
    "    sum_ = 0\n",
    "    lst.append(tree)\n",
    "    \n",
    "    while (len(lst) > 0):\n",
    "        tmp = lst.pop(0)\n",
    "        sum_ += tmp.base\n",
    "        \n",
    "        if (tmp.left != None):\n",
    "            lst.append(tmp.left)\n",
    "    \n",
    "    return sum_\n",
    "\n",
    "\n",
    "root = bt6(1)\n",
    "root.left = bt6(2)\n",
    "root.right = bt6(3)\n",
    "root.left.left = bt6(4)\n",
    "root.left.right = bt6(5)\n",
    "root.right.left = bt6(6)\n",
    "root.right.right = bt6(7)\n",
    "root.right.left.right = bt6(8)\n",
    "\n",
    "print(\"Sum of all elements in the left branchs of binary tree is: \", sum_left_bt6(root))"
   ]
  },
  {
   "cell_type": "code",
   "execution_count": 41,
   "id": "798e0522",
   "metadata": {},
   "outputs": [
    {
     "name": "stdout",
     "output_type": "stream",
     "text": [
      "Sum of all elements in the right branches of the binary tree is:  11\n"
     ]
    }
   ],
   "source": [
    "class bt7:\n",
    "    def __init__(self, base):\n",
    "        self.base = base\n",
    "        self.left = None\n",
    "        self.right = None\n",
    "\n",
    "def sum_right_bt7(tree):\n",
    "    lst = []\n",
    "    sum_ = 0\n",
    "    lst.append(tree)\n",
    "    \n",
    "    while (len(lst) > 0):\n",
    "        tmp = lst.pop(0)\n",
    "        sum_ += tmp.base\n",
    "        \n",
    "        if (tmp.right != None):\n",
    "            lst.append(tmp.right)\n",
    "            \n",
    "    return sum_\n",
    "\n",
    "\n",
    "root = bt7(1)\n",
    "root.left = bt7(2)\n",
    "root.right = bt7(3)\n",
    "root.left.left = bt7(4)\n",
    "root.left.right = bt7(5)\n",
    "root.right.left = bt7(6)\n",
    "root.right.right = bt7(7)\n",
    "root.right.left.right = bt7(8)\n",
    "\n",
    "print(\"Sum of all elements in the right branches of the binary tree is: \", sum_right_bt7(root))"
   ]
  },
  {
   "cell_type": "code",
   "execution_count": 129,
   "id": "2f89fcc7",
   "metadata": {},
   "outputs": [
    {
     "name": "stdout",
     "output_type": "stream",
     "text": [
      "Sum of all elements in the right branches of the binary tree is:  36\n"
     ]
    }
   ],
   "source": [
    "class bt8:\n",
    "    def __init__(self, base):\n",
    "        self.base = base\n",
    "        self.right = None\n",
    "        self.left = None\n",
    "\n",
    "def sum_bt8(tree):\n",
    "    lst = []\n",
    "    sum_ = 0\n",
    "    lst.append(tree)\n",
    "    \n",
    "    while (len(lst) > 0):\n",
    "        tmp = lst.pop(0)\n",
    "        sum_ += tmp.base\n",
    "        \n",
    "        if (tmp.right != None):\n",
    "            lst.append(tmp.right)\n",
    "        if (tmp.left != None):\n",
    "            lst.append(tmp.left)\n",
    "            \n",
    "    return sum_\n",
    "\n",
    "\n",
    "root = bt8(1)\n",
    "root.left = bt8(2)\n",
    "root.right = bt8(3)\n",
    "root.left.left = bt8(4)\n",
    "root.left.right = bt8(5)\n",
    "root.right.left = bt8(6)\n",
    "root.right.right = bt8(7)\n",
    "root.right.left.right = bt8(8)\n",
    "\n",
    "print(\"Sum of all elements in the right branches of the binary tree is: \", sum_bt8(root))"
   ]
  },
  {
   "cell_type": "code",
   "execution_count": 131,
   "id": "084c5fe9",
   "metadata": {},
   "outputs": [
    {
     "data": {
      "text/plain": [
       "\"'too hot to hoot' is a palindrome\""
      ]
     },
     "execution_count": 131,
     "metadata": {},
     "output_type": "execute_result"
    }
   ],
   "source": [
    "def check_palindrome(string):\n",
    "    \n",
    "    string_ = string.lower()\n",
    "    \n",
    "    alpha = {'a', 'b', 'c', 'd', 'e', 'f', 'g', 'h', 'i', 'j', 'k',\n",
    "             'l', 'm', 'n', 'o', 'p', 'q', 'r', 's', 't', 'u', 'v',\n",
    "             'w', 'x', 'y', 'z',\n",
    "            }\n",
    "    \n",
    "    str_ = ''\n",
    "    \n",
    "    for l in string_:\n",
    "        if l in alpha:\n",
    "            str_ += l\n",
    "            \n",
    "    if str_ == str_[::-1]:\n",
    "        return f\"'{string}' is a palindrome\"\n",
    "    else:\n",
    "        return f\"'{string}' is not a palindrome\"\n",
    "        \n",
    "check_palindrome('too hot to hoot')"
   ]
  },
  {
   "cell_type": "code",
   "execution_count": 125,
   "id": "cc85ee4e",
   "metadata": {},
   "outputs": [
    {
     "name": "stdout",
     "output_type": "stream",
     "text": [
      "36\n"
     ]
    }
   ],
   "source": [
    "class bt9:\n",
    "    def __init__(self, base):\n",
    "        self.base = base\n",
    "        self.right = None\n",
    "        self.left = None\n",
    "        \n",
    "def sum_bt9(tree):\n",
    "    lst = []\n",
    "    sum_ = 0\n",
    "    lst.append(tree)\n",
    "    \n",
    "    while (len(lst) > 0):\n",
    "        tmp = lst.pop(0)\n",
    "        sum_ += tmp.base\n",
    "        \n",
    "        if (tmp.left != None):\n",
    "            lst.append(tmp.left)\n",
    "        if (tmp.right != None):\n",
    "            lst.append(tmp.right)\n",
    "    \n",
    "    return sum_\n",
    "\n",
    "root = bt9(1)\n",
    "root.left = bt9(2)\n",
    "root.right = bt9(3)\n",
    "root.right.left = bt9(4)\n",
    "root.right.right = bt9(5)\n",
    "root.left.left = bt9(6)\n",
    "root.left.right = bt9(7)\n",
    "root.right.right.right = bt9(8)\n",
    "\n",
    "print(f'{sum_bt9(root)}')"
   ]
  },
  {
   "cell_type": "code",
   "execution_count": 126,
   "id": "5cf9b092",
   "metadata": {},
   "outputs": [],
   "source": [
    "lst = [root]"
   ]
  },
  {
   "cell_type": "code",
   "execution_count": 127,
   "id": "cbfd5e4b",
   "metadata": {},
   "outputs": [
    {
     "name": "stdout",
     "output_type": "stream",
     "text": [
      "1\n",
      "2\n",
      "3\n",
      "6\n",
      "7\n",
      "4\n",
      "5\n",
      "8\n"
     ]
    }
   ],
   "source": [
    "while len(lst) > 0:\n",
    "    tmp = lst.pop(0)\n",
    "    \n",
    "    print(tmp.base)\n",
    "    \n",
    "    if (tmp.left != None):\n",
    "        lst.append(tmp.left)\n",
    "    if (tmp.right != None):\n",
    "        lst.append(tmp.right)"
   ]
  },
  {
   "cell_type": "code",
   "execution_count": 128,
   "id": "ad0080d7",
   "metadata": {},
   "outputs": [
    {
     "name": "stdout",
     "output_type": "stream",
     "text": [
      "1\n",
      "2\n",
      "3\n",
      "4\n"
     ]
    }
   ],
   "source": [
    "l = [1, 2, 3, 4]\n",
    "\n",
    "while len(l) > 0: \n",
    "    print(l.pop(0))"
   ]
  },
  {
   "cell_type": "code",
   "execution_count": null,
   "id": "8c32a925",
   "metadata": {},
   "outputs": [],
   "source": []
  },
  {
   "cell_type": "code",
   "execution_count": null,
   "id": "e19e8d34",
   "metadata": {},
   "outputs": [],
   "source": []
  },
  {
   "cell_type": "code",
   "execution_count": 113,
   "id": "e97aa541",
   "metadata": {},
   "outputs": [
    {
     "data": {
      "text/plain": [
       "1"
      ]
     },
     "execution_count": 113,
     "metadata": {},
     "output_type": "execute_result"
    }
   ],
   "source": [
    "tmp = lst.pop(0)\n",
    "tmp.base"
   ]
  },
  {
   "cell_type": "code",
   "execution_count": 114,
   "id": "1fdba1bd",
   "metadata": {},
   "outputs": [
    {
     "data": {
      "text/plain": [
       "2"
      ]
     },
     "execution_count": 114,
     "metadata": {},
     "output_type": "execute_result"
    }
   ],
   "source": [
    "tmp.left.base"
   ]
  },
  {
   "cell_type": "code",
   "execution_count": 115,
   "id": "ad50bb12",
   "metadata": {},
   "outputs": [
    {
     "data": {
      "text/plain": [
       "3"
      ]
     },
     "execution_count": 115,
     "metadata": {},
     "output_type": "execute_result"
    }
   ],
   "source": [
    "tmp.right.base"
   ]
  },
  {
   "cell_type": "code",
   "execution_count": 116,
   "id": "90df941e",
   "metadata": {},
   "outputs": [
    {
     "data": {
      "text/plain": [
       "2"
      ]
     },
     "execution_count": 116,
     "metadata": {},
     "output_type": "execute_result"
    }
   ],
   "source": [
    "lst.append(tmp.left)\n",
    "lst.append(tmp.right)\n",
    "\n",
    "tmp = lst.pop(0)\n",
    "tmp.base"
   ]
  },
  {
   "cell_type": "code",
   "execution_count": 117,
   "id": "8998a398",
   "metadata": {},
   "outputs": [
    {
     "data": {
      "text/plain": [
       "3"
      ]
     },
     "execution_count": 117,
     "metadata": {},
     "output_type": "execute_result"
    }
   ],
   "source": [
    "lst.append(tmp.left)\n",
    "lst.append(tmp.right)\n",
    "\n",
    "tmp = lst.pop(0)\n",
    "tmp.base"
   ]
  },
  {
   "cell_type": "code",
   "execution_count": 118,
   "id": "f52aca5c",
   "metadata": {},
   "outputs": [
    {
     "data": {
      "text/plain": [
       "5"
      ]
     },
     "execution_count": 118,
     "metadata": {},
     "output_type": "execute_result"
    }
   ],
   "source": [
    "tmp.right.base"
   ]
  },
  {
   "cell_type": "code",
   "execution_count": 139,
   "id": "5acbf75b",
   "metadata": {},
   "outputs": [
    {
     "name": "stdout",
     "output_type": "stream",
     "text": [
      "False\n"
     ]
    }
   ],
   "source": [
    "class dt10:\n",
    "    def __init__(self, node):\n",
    "        self.node = node\n",
    "        self.left = None\n",
    "        self.right = None\n",
    "\n",
    "def dt10_search(tree, target):\n",
    "    if tree is None:\n",
    "        return False\n",
    "    if tree.node == target:\n",
    "        return True\n",
    "    return dt10_search(tree.left, target) or dt10_search(tree.right, target)\n",
    "\n",
    "root = dt10(10)\n",
    "root.left = dt10(5)\n",
    "root.right = dt10(15)\n",
    "root.left.left = dt10(3)\n",
    "root.left.right = dt10(7)\n",
    "root.right.right = dt10(18)\n",
    "\n",
    "target = 2\n",
    "print(dt10_search(root, target))"
   ]
  },
  {
   "cell_type": "code",
   "execution_count": 153,
   "id": "026c67b0",
   "metadata": {},
   "outputs": [
    {
     "name": "stdout",
     "output_type": "stream",
     "text": [
      "Tree Sum: 55\n",
      "12 is in the tree\n"
     ]
    }
   ],
   "source": [
    "class bt11:\n",
    "    def __init__(self, node):\n",
    "        self.node = node\n",
    "        self.left = None\n",
    "        self.right = None\n",
    "\n",
    "def sum_bt11(tree):\n",
    "    lst = []\n",
    "    sum_ = 0\n",
    "    lst.append(tree)\n",
    "    \n",
    "    while (len(lst) > 0):\n",
    "        tmp = lst.pop(0)\n",
    "        sum_ += tmp.node\n",
    "        \n",
    "        if (tmp.left != None):\n",
    "            lst.append(tmp.left)\n",
    "        if (tmp.right != None):\n",
    "            lst.append(tmp.right)\n",
    "        \n",
    "    return sum_\n",
    "\n",
    "def search_bt11(tree, target):\n",
    "    \n",
    "    if tree.node == None:\n",
    "        return False\n",
    "    \n",
    "    lst = []\n",
    "    lst.append(tree)\n",
    "    \n",
    "    while (len(lst) > 0):\n",
    "        tmp = lst.pop(0)\n",
    "\n",
    "        if target == tmp.node:\n",
    "            return True\n",
    "    \n",
    "        if tmp.left != None:\n",
    "            lst.append(tmp.left)\n",
    "        if tmp.right != None:\n",
    "            lst.append(tmp.right)\n",
    "            \n",
    "    return False\n",
    "\n",
    "bt = bt11(20)\n",
    "bt.left = bt11(15)\n",
    "bt.right = bt11(21)\n",
    "bt.left.left = bt11(3)\n",
    "bt.left.right = bt11(4)\n",
    "bt.right.left = bt11(-11)\n",
    "bt.right.right = bt11(-2)\n",
    "bt.left.left.left = bt11(-7)\n",
    "bt.left.left.right = bt11(12)\n",
    "\n",
    "print(f'Tree Sum: {sum_bt11(bt)}')\n",
    "print(f'12 {'is' if search_bt11(bt, 12) else 'is not'} in the tree')"
   ]
  },
  {
   "cell_type": "code",
   "execution_count": 157,
   "id": "c78fca78",
   "metadata": {},
   "outputs": [
    {
     "name": "stdout",
     "output_type": "stream",
     "text": [
      "Sum of linked list: 100.\n",
      "\n",
      "31 is not in the linked list.\n"
     ]
    }
   ],
   "source": [
    "class n0:\n",
    "    def __init__(self, value):\n",
    "        self.value = value\n",
    "        self.next = None\n",
    "        \n",
    "class ll0:\n",
    "    def __init__(self):\n",
    "        self.head = None\n",
    "        \n",
    "    def append(self, value):\n",
    "        new_node = n0(value)\n",
    "        if self.head is None:\n",
    "            self.head = new_node\n",
    "            return\n",
    "        current = self.head\n",
    "        while current.next:\n",
    "            current = current.next\n",
    "        current.next = new_node\n",
    "        \n",
    "    def sum_list(self):\n",
    "        current = self.head\n",
    "        total = 0\n",
    "        while current:\n",
    "            total += current.value\n",
    "            current = current.next\n",
    "        return total\n",
    "    \n",
    "    def search(self, target):\n",
    "        current = self.head\n",
    "        while current:\n",
    "            if current.value == target:\n",
    "                return True\n",
    "            current = current.next\n",
    "        return False\n",
    "    \n",
    "ll = ll0()\n",
    "ll.append(10)\n",
    "ll.append(20)\n",
    "ll.append(30)\n",
    "ll.append(40)\n",
    "\n",
    "print(f'Sum of linked list: {ll.sum_list()}.\\n')\n",
    "print(f'31 {'is' if ll.search(31) else 'is not'} in the linked list.')\n",
    "    "
   ]
  },
  {
   "cell_type": "code",
   "execution_count": null,
   "id": "f2f5956e",
   "metadata": {},
   "outputs": [],
   "source": []
  }
 ],
 "metadata": {
  "kernelspec": {
   "display_name": "Python 3 (ipykernel)",
   "language": "python",
   "name": "python3"
  },
  "language_info": {
   "codemirror_mode": {
    "name": "ipython",
    "version": 3
   },
   "file_extension": ".py",
   "mimetype": "text/x-python",
   "name": "python",
   "nbconvert_exporter": "python",
   "pygments_lexer": "ipython3",
   "version": "3.12.3"
  }
 },
 "nbformat": 4,
 "nbformat_minor": 5
}
