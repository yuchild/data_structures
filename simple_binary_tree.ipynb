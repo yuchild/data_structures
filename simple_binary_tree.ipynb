{
 "cells": [
  {
   "cell_type": "code",
   "execution_count": 4,
   "id": "24fa55f4",
   "metadata": {},
   "outputs": [],
   "source": [
    "class newNode:\n",
    "    def __init__(self, key):\n",
    "        self.key = key\n",
    "        self.left = None\n",
    "        self.right = None\n",
    "        \n",
    "def sumBT(root):\n",
    "    \n",
    "    sum_bt = 0\n",
    "    q = []\n",
    "    \n",
    "    q.append(root)\n",
    "    \n",
    "    while len(q) > 0:\n",
    "        temp = q.pop(0)\n",
    "        \n",
    "        sum_bt += temp.key\n",
    "        \n",
    "        if (temp.left != None):\n",
    "            q.append(temp.left)\n",
    "        if (temp.right != None):\n",
    "            q.append(temp.right)\n",
    "    \n",
    "    return sum_bt"
   ]
  },
  {
   "cell_type": "code",
   "execution_count": 5,
   "id": "1d3c481e",
   "metadata": {},
   "outputs": [
    {
     "name": "stdout",
     "output_type": "stream",
     "text": [
      "Sum of all elements in the binary tree is:  36\n"
     ]
    }
   ],
   "source": [
    "root = newNode(1)\n",
    "root.left = newNode(2)\n",
    "root.right = newNode(3)\n",
    "root.left.left = newNode(4)\n",
    "root.left.right = newNode(5)\n",
    "root.right.left = newNode(6)\n",
    "root.right.right = newNode(7)\n",
    "root.right.left.right = newNode(8)\n",
    "\n",
    "print(\"Sum of all elements in the binary tree is: \", sumBT(root))"
   ]
  },
  {
   "cell_type": "code",
   "execution_count": 17,
   "id": "1ffb471b",
   "metadata": {},
   "outputs": [
    {
     "name": "stdout",
     "output_type": "stream",
     "text": [
      "Sum of all elements in the binary tree is:  36\n"
     ]
    }
   ],
   "source": [
    "class bt0:\n",
    "    def __init__(self, node):\n",
    "        self.node = node\n",
    "        self.left = None\n",
    "        self.right = None\n",
    "        \n",
    "def sum_bt0(node):\n",
    "    sum_all = 0\n",
    "    lst = []\n",
    "    lst.append(node)\n",
    "    \n",
    "    while len(lst) > 0:\n",
    "        temp = lst.pop(0)\n",
    "        sum_all += temp.node\n",
    "        \n",
    "        if (temp.left != None):\n",
    "            lst.append(temp.left)\n",
    "        if (temp.right != None):\n",
    "            lst.append(temp.right)\n",
    "    \n",
    "    return sum_all\n",
    "\n",
    "root = bt0(1)\n",
    "root.left = bt0(2)\n",
    "root.right = bt0(3)\n",
    "root.left.left = bt0(4)\n",
    "root.left.right = bt0(5)\n",
    "root.right.left = bt0(6)\n",
    "root.right.right = bt0(7)\n",
    "root.right.left.right = bt0(8)\n",
    " \n",
    "print(\"Sum of all elements in the binary tree is: \", sum_bt0(root))\n",
    " \n",
    "\n",
    "\n",
    "    \n",
    "    "
   ]
  },
  {
   "cell_type": "code",
   "execution_count": 21,
   "id": "089fa662",
   "metadata": {},
   "outputs": [
    {
     "name": "stdout",
     "output_type": "stream",
     "text": [
      "Sum of all elements in the binary tree is:  36\n"
     ]
    }
   ],
   "source": [
    "class bt1:\n",
    "    def __init__(self, key):\n",
    "        self.key = key\n",
    "        self.right = None\n",
    "        self.left = None\n",
    "        \n",
    "def sum_bt1(key):\n",
    "    \n",
    "    sum_bt1 = 0\n",
    "    \n",
    "    lst1 = []\n",
    "    \n",
    "    lst1.append(key)\n",
    "    \n",
    "    while len(lst1) > 0:\n",
    "        temp = lst1.pop(0)\n",
    "        sum_bt1 += temp.key\n",
    "        \n",
    "        if (temp.right != None):\n",
    "            lst1.append(temp.right)\n",
    "        if (temp.left != None):\n",
    "            lst1.append(temp.left)\n",
    "    \n",
    "    return sum_bt1\n",
    "\n",
    "root = bt1(1)\n",
    "root.left = bt1(2)\n",
    "root.right = bt1(3)\n",
    "root.left.left = bt1(4)\n",
    "root.left.right = bt1(5)\n",
    "root.right.left = bt1(6)\n",
    "root.right.right = bt1(7)\n",
    "root.right.left.right = bt1(8)\n",
    "\n",
    "print(\"Sum of all elements in the binary tree is: \", sum_bt1(root))"
   ]
  },
  {
   "cell_type": "code",
   "execution_count": null,
   "id": "db112fcd",
   "metadata": {},
   "outputs": [],
   "source": []
  }
 ],
 "metadata": {
  "kernelspec": {
   "display_name": "Python 3 (ipykernel)",
   "language": "python",
   "name": "python3"
  },
  "language_info": {
   "codemirror_mode": {
    "name": "ipython",
    "version": 3
   },
   "file_extension": ".py",
   "mimetype": "text/x-python",
   "name": "python",
   "nbconvert_exporter": "python",
   "pygments_lexer": "ipython3",
   "version": "3.12.3"
  }
 },
 "nbformat": 4,
 "nbformat_minor": 5
}
