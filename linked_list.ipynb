{
 "cells": [
  {
   "cell_type": "code",
   "execution_count": 11,
   "id": "c54ae940-be63-470d-ad8e-350f1dddfc96",
   "metadata": {},
   "outputs": [],
   "source": [
    "# from youtube: https://www.youtube.com/watch?v=JlMyYuY1aXU\n",
    "# link list uses a data structured called a 'node' to wrap its elements\n",
    "# a node has the knowledge to get to the next node\n",
    "# single linked node has knowledge to point to the next node\n",
    "# double linked node has knowledge to point to the next and pervious node\n",
    "# for both single and double linked lists big O: O(1) +/- an iterator position, first element, +last elemeent\n",
    "# for both single and double linked lists big O: O(n) access element, remove last element"
   ]
  },
  {
   "cell_type": "code",
   "execution_count": 12,
   "id": "f437778f-3039-4452-8a98-a049f054933a",
   "metadata": {},
   "outputs": [
    {
     "name": "stdout",
     "output_type": "stream",
     "text": [
      "The autoreload extension is already loaded. To reload it, use:\n",
      "  %reload_ext autoreload\n"
     ]
    }
   ],
   "source": [
    "from src import linked as lnk\n",
    "\n",
    "%load_ext autoreload\n",
    "%autoreload 2"
   ]
  },
  {
   "cell_type": "code",
   "execution_count": 13,
   "id": "ba5e8daf-934a-4547-93f1-0d814df2b91d",
   "metadata": {},
   "outputs": [
    {
     "data": {
      "text/plain": [
       "[]"
      ]
     },
     "execution_count": 13,
     "metadata": {},
     "output_type": "execute_result"
    }
   ],
   "source": [
    "my_list = lnk.linked_list()\n",
    "my_list.display()"
   ]
  },
  {
   "cell_type": "code",
   "execution_count": 14,
   "id": "a35c7f2a-9e36-4b63-afeb-a1a98614cf41",
   "metadata": {},
   "outputs": [
    {
     "data": {
      "text/plain": [
       "[1, 2, 3, 4]"
      ]
     },
     "execution_count": 14,
     "metadata": {},
     "output_type": "execute_result"
    }
   ],
   "source": [
    "my_list.append(1)\n",
    "my_list.append(2)\n",
    "my_list.append(3)\n",
    "my_list.append(4)\n",
    "my_list.display()"
   ]
  },
  {
   "cell_type": "code",
   "execution_count": 15,
   "id": "01628c18-cca1-417a-833b-afaffac1572d",
   "metadata": {},
   "outputs": [
    {
     "data": {
      "text/plain": [
       "3"
      ]
     },
     "execution_count": 15,
     "metadata": {},
     "output_type": "execute_result"
    }
   ],
   "source": [
    "my_list.get(2)"
   ]
  },
  {
   "cell_type": "code",
   "execution_count": 16,
   "id": "0e2672a0",
   "metadata": {},
   "outputs": [
    {
     "data": {
      "text/plain": [
       "4"
      ]
     },
     "execution_count": 16,
     "metadata": {},
     "output_type": "execute_result"
    }
   ],
   "source": [
    "my_list.length()"
   ]
  },
  {
   "cell_type": "code",
   "execution_count": 17,
   "id": "beb806bc",
   "metadata": {},
   "outputs": [],
   "source": [
    "my_list.append(5)"
   ]
  },
  {
   "cell_type": "code",
   "execution_count": 18,
   "id": "cd201148",
   "metadata": {},
   "outputs": [
    {
     "data": {
      "text/plain": [
       "[1, 2, 3, 4, 5]"
      ]
     },
     "execution_count": 18,
     "metadata": {},
     "output_type": "execute_result"
    }
   ],
   "source": [
    "my_list.display()"
   ]
  },
  {
   "cell_type": "code",
   "execution_count": null,
   "id": "8bf212f4",
   "metadata": {},
   "outputs": [],
   "source": []
  }
 ],
 "metadata": {
  "kernelspec": {
   "display_name": "Python 3 (ipykernel)",
   "language": "python",
   "name": "python3"
  },
  "language_info": {
   "codemirror_mode": {
    "name": "ipython",
    "version": 3
   },
   "file_extension": ".py",
   "mimetype": "text/x-python",
   "name": "python",
   "nbconvert_exporter": "python",
   "pygments_lexer": "ipython3",
   "version": "3.8.10"
  }
 },
 "nbformat": 4,
 "nbformat_minor": 5
}
