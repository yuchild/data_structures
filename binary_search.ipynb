{
 "cells": [
  {
   "cell_type": "code",
   "execution_count": 4,
   "metadata": {},
   "outputs": [
    {
     "name": "stdout",
     "output_type": "stream",
     "text": [
      "preorder: \t1-2-4-5-3-6-7-\n",
      "inorder: \t4-2-5-1-6-3-7-\n",
      "postorder: \t4-2-5-1-\n"
     ]
    }
   ],
   "source": [
    "class Node(object):\n",
    "    \n",
    "    def __init__(self, value):\n",
    "        self.value = value\n",
    "        self.left = None\n",
    "        self.right = None\n",
    "\n",
    "class BinaryTree(object):\n",
    "    \n",
    "    def __init__(self, root):\n",
    "        self.root = Node(root)\n",
    "    \n",
    "    def print_tree(self, traversal_type):\n",
    "        if traversal_type == \"preorder\":\n",
    "            return self.preorder_print(tree.root, '')\n",
    "        elif traversal_type == 'inorder':\n",
    "            return self.inorder_print(tree.root, '')\n",
    "        elif traversal_type == 'postorder':\n",
    "            return self.postorder_print(tree.root, '')\n",
    "        else:\n",
    "            print('Traversal Type ' + str(traversal_type) + ' is not supported.')\n",
    "            return False\n",
    "          \n",
    "    def preorder_print(self, start, traversal):\n",
    "        '''Root(value)->Left->Right'''\n",
    "        if start:\n",
    "            traversal += (str(start.value) + '-')\n",
    "            traversal = self.preorder_print(start.left, traversal)\n",
    "            traversal = self.preorder_print(start.right, traversal)\n",
    "        return traversal\n",
    "    \n",
    "    def inorder_print(self, start, traversal):\n",
    "        '''Left->Root(value)->Right'''\n",
    "        if start:\n",
    "            traversal = self.inorder_print(start.left, traversal)\n",
    "            traversal += (str(start.value) + '-')\n",
    "            traversal = self.inorder_print(start.right, traversal)\n",
    "        return traversal\n",
    "        \n",
    "    def postorder_print(self, start, traversal):\n",
    "        '''Left->Right->Root(value)'''\n",
    "        if start:\n",
    "            traversal = self.inorder_print(start.left, traversal)\n",
    "            traverasl = self.inorder_print(start.right, traversal)\n",
    "            traversal += (str(start.value) + '-')\n",
    "        return traversal\n",
    "    \n",
    "#       1\n",
    "#     /   \\\n",
    "#    2    3 \n",
    "#   / \\  / \\\n",
    "#  4  5  6  7\n",
    "#            \\\n",
    "#            8\n",
    "\n",
    "tree = BinaryTree(1) # root = 1\n",
    "tree.root.left = Node(2) \n",
    "tree.root.right = Node(3) \n",
    "tree.root.left.left = Node(4) \n",
    "tree.root.left.right = Node(5)\n",
    "tree.root.right.left = Node(6)\n",
    "tree.root.right.right = Node(7)\n",
    "#tree.root.right.right.right = Node(8)\n",
    "\n",
    "print('preorder: ' + '\\t' + tree.print_tree('preorder'))\n",
    "print('inorder: ' + '\\t' +  tree.print_tree('inorder'))\n",
    "print('postorder: ' + '\\t' +  tree.print_tree('postorder'))"
   ]
  },
  {
   "cell_type": "code",
   "execution_count": null,
   "metadata": {},
   "outputs": [],
   "source": []
  },
  {
   "cell_type": "code",
   "execution_count": null,
   "metadata": {},
   "outputs": [],
   "source": []
  }
 ],
 "metadata": {
  "kernelspec": {
   "display_name": "Python 3",
   "language": "python",
   "name": "python3"
  },
  "language_info": {
   "codemirror_mode": {
    "name": "ipython",
    "version": 3
   },
   "file_extension": ".py",
   "mimetype": "text/x-python",
   "name": "python",
   "nbconvert_exporter": "python",
   "pygments_lexer": "ipython3",
   "version": "3.8.2"
  }
 },
 "nbformat": 4,
 "nbformat_minor": 4
}
