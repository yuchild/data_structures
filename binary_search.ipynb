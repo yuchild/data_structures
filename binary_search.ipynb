{
 "cells": [
  {
   "cell_type": "markdown",
   "metadata": {},
   "source": [
    "### From: https://www.youtube.com/watch?v=yC83Kp2xig8"
   ]
  },
  {
   "cell_type": "code",
   "execution_count": 1,
   "metadata": {},
   "outputs": [
    {
     "name": "stdout",
     "output_type": "stream",
     "text": [
      "preorder: \t1-2-4-5-3-6-7-\n",
      "inorder: \t4-2-5-1-6-3-7-\n",
      "postorder: \t4-2-5-1-\n"
     ]
    }
   ],
   "source": [
    "class Node(object):\n",
    "    \n",
    "    def __init__(self, value):\n",
    "        self.value = value\n",
    "        self.left = None\n",
    "        self.right = None\n",
    "\n",
    "class BinaryTree(object):\n",
    "    \n",
    "    def __init__(self, root):\n",
    "        self.root = Node(root)\n",
    "    \n",
    "    def print_tree(self, traversal_type):\n",
    "        if traversal_type == \"preorder\":\n",
    "            return self.preorder_print(tree.root, '')\n",
    "        elif traversal_type == 'inorder':\n",
    "            return self.inorder_print(tree.root, '')\n",
    "        elif traversal_type == 'postorder':\n",
    "            return self.postorder_print(tree.root, '')\n",
    "        else:\n",
    "            print('Traversal Type ' + str(traversal_type) + ' is not supported.')\n",
    "            return False\n",
    "          \n",
    "    def preorder_print(self, start, traversal):\n",
    "        '''Root(value)->Left->Right'''\n",
    "        if start:\n",
    "            traversal += (str(start.value) + '-')\n",
    "            traversal = self.preorder_print(start.left, traversal)\n",
    "            traversal = self.preorder_print(start.right, traversal)\n",
    "        return traversal\n",
    "    \n",
    "    def inorder_print(self, start, traversal):\n",
    "        '''Left->Root(value)->Right'''\n",
    "        if start:\n",
    "            traversal = self.inorder_print(start.left, traversal)\n",
    "            traversal += (str(start.value) + '-')\n",
    "            traversal = self.inorder_print(start.right, traversal)\n",
    "        return traversal\n",
    "        \n",
    "    def postorder_print(self, start, traversal):\n",
    "        '''Left->Right->Root(value)'''\n",
    "        if start:\n",
    "            traversal = self.inorder_print(start.left, traversal)\n",
    "            traverasl = self.inorder_print(start.right, traversal)\n",
    "            traversal += (str(start.value) + '-')\n",
    "        return traversal\n",
    "    \n",
    "#       1\n",
    "#     /   \\\n",
    "#    2    3 \n",
    "#   / \\  / \\\n",
    "#  4  5  6  7\n",
    "#            \\\n",
    "#            8\n",
    "\n",
    "tree = BinaryTree(1) # root = 1\n",
    "tree.root.left = Node(2) \n",
    "tree.root.right = Node(3) \n",
    "tree.root.left.left = Node(4) \n",
    "tree.root.left.right = Node(5)\n",
    "tree.root.right.left = Node(6)\n",
    "tree.root.right.right = Node(7)\n",
    "#tree.root.right.right.right = Node(8)\n",
    "\n",
    "print('preorder: ' + '\\t' + tree.print_tree('preorder'))\n",
    "print('inorder: ' + '\\t' +  tree.print_tree('inorder'))\n",
    "print('postorder: ' + '\\t' +  tree.print_tree('postorder'))"
   ]
  },
  {
   "cell_type": "code",
   "execution_count": 2,
   "metadata": {},
   "outputs": [],
   "source": [
    "class Node:\n",
    "    def __init__(self, data=None):\n",
    "        self.data = data\n",
    "        self.left = None\n",
    "        self.right = None\n",
    "class BST:\n",
    "    def __init__(self):\n",
    "        self.root = None\n",
    "    \n",
    "    def insert(self, data): # data is the node\n",
    "        if self.root == None:\n",
    "            self.root = Node(data)\n",
    "        else:\n",
    "            self._insert(data, self.root)\n",
    "            \n",
    "    def _insert(self, data, cur_node):\n",
    "        if data < cur_node.data:\n",
    "            if cur_node.left == None:\n",
    "                cur_node.left = Node(data)\n",
    "            else:\n",
    "                self._insert(data, cur_node.left)\n",
    "        elif data > cur_node.data:\n",
    "            if cur_node.right == None:\n",
    "                cur_node.right = Node(data)\n",
    "            else:\n",
    "                self._insert(data, cur_node.right)\n",
    "        else:\n",
    "            print('Value already present in tree.')\n",
    "    \n",
    "    def find(self, data):\n",
    "        if self.root: \n",
    "            is_found = self._find(data, self.root)\n",
    "            if is_found:\n",
    "                return True\n",
    "            return False\n",
    "        else:\n",
    "            return None\n",
    "    \n",
    "    def _find(self, data, cur_node):\n",
    "        if data > cur_node.data and cur_node.right:\n",
    "            return self._find(data, cur_node.right)\n",
    "        elif data < cur_node.data and cur_node.left:\n",
    "            return self._find(data, cur_node.left)\n",
    "        \n",
    "        if data == cur_node.data:\n",
    "            return True\n",
    "        \n",
    "bst = BST()\n",
    "bst.insert(4)\n",
    "bst.insert(2)\n",
    "bst.insert(8)\n",
    "bst.insert(5)\n",
    "bst.insert(10)        "
   ]
  },
  {
   "cell_type": "code",
   "execution_count": 3,
   "metadata": {},
   "outputs": [
    {
     "name": "stdout",
     "output_type": "stream",
     "text": [
      "<__main__.BST object at 0x7f31ebf55750>\n"
     ]
    }
   ],
   "source": [
    "print(bst)"
   ]
  },
  {
   "cell_type": "code",
   "execution_count": null,
   "metadata": {},
   "outputs": [],
   "source": []
  }
 ],
 "metadata": {
  "kernelspec": {
   "display_name": "Python 3 (ipykernel)",
   "language": "python",
   "name": "python3"
  },
  "language_info": {
   "codemirror_mode": {
    "name": "ipython",
    "version": 3
   },
   "file_extension": ".py",
   "mimetype": "text/x-python",
   "name": "python",
   "nbconvert_exporter": "python",
   "pygments_lexer": "ipython3",
   "version": "3.10.14"
  }
 },
 "nbformat": 4,
 "nbformat_minor": 4
}
