{
 "cells": [
  {
   "cell_type": "code",
   "execution_count": 1,
   "id": "5e675941-02e4-4e6e-8a7a-bbdcb648acde",
   "metadata": {},
   "outputs": [],
   "source": [
    "def gini_index(groups, classes):\n",
    "    # total number of samples\n",
    "    n_instances = sum(len(group) for group in groups)\n",
    "\n",
    "    # weighted gini index for all groups\n",
    "    gini = 0.0\n",
    "    for group in groups:\n",
    "        group_size = len(group)\n",
    "        if size == 0:\n",
    "            continue\n",
    "        # calculate the score for the group\n",
    "        score = 0.0\n",
    "        for class_val in classes:\n",
    "            p = [row[-1] for row in group].count(class_val) / size\n",
    "            score += p ** 2\n",
    "        # weight by the size of the group\n",
    "        gini += (1 - score) * (group_size / n_instances)\n",
    "\n",
    "    return gini"
   ]
  },
  {
   "cell_type": "code",
   "execution_count": 2,
   "id": "7498fa82-1b95-46b5-aca8-d1f214783c8b",
   "metadata": {},
   "outputs": [],
   "source": [
    "def test_split(index, value, dataset):\n",
    "    \"\"\"Split the dataset based on an attribute and attribute value.\"\"\"\n",
    "    left, right = [], []\n",
    "    for row in dataset:\n",
    "        if row[index] < value:\n",
    "            left.append(row)\n",
    "        else:\n",
    "            right.append(row)\n",
    "    return left, right\n",
    "\n",
    "def get_best_split(dataset):\n",
    "    \"\"\"Find the best split point for a dataset.\"\"\"\n",
    "    class_values = list(set(row[-1] for row in dataset))\n",
    "    best_index, best_value, best_score, best_groups = None, None, float('inf'), None\n",
    "    for index in range(len(dataset[0]) - 1): # Exclude the header label\n",
    "        for row in dataset:\n",
    "            groups = test_split(index, row[index], dataset)\n",
    "            gini = gini_index(groups, class_values)\n",
    "            if gini < best_score:\n",
    "                best_index, best_value, best_score, best_groups = index, row[index], gini, groups\n",
    "    return {'index': best_index,\n",
    "            'value': best_value,\n",
    "            'groups': best_groups,\n",
    "           }        "
   ]
  },
  {
   "cell_type": "code",
   "execution_count": 3,
   "id": "00d2357d-158b-409e-9508-4bc3535f4588",
   "metadata": {},
   "outputs": [],
   "source": [
    "# build the tree\n",
    "def to_terminal(group):\n",
    "    \"\"\"Create a terminal node value.\"\"\"\n",
    "    outcomes = [row[-1] for row in group]\n",
    "    return max(set(outcomes), key=outcomes.count)\n",
    "\n",
    "def split(node, max_depth, min_size, depth):\n",
    "    \"\"\"recursive function to split a node.\"\"\"\n",
    "    left, right = node['groups']\n",
    "    del node['groups']\n",
    "\n",
    "    # check for no split\n",
    "    if not left or not right:\n",
    "        node['left'] = node['right'] = to_terminal(left + right)\n",
    "        return\n",
    "\n",
    "    # check for max depth\n",
    "    if depth >= max_depth:\n",
    "        node['left'], node['right'] = to_terminal(left), to_terminal(right)\n",
    "        return\n",
    "\n",
    "    # Process left child\n",
    "    if len(left) <= min_size:\n",
    "        node['left'] = to_terminal(left)\n",
    "    else:\n",
    "        node['left'] = get_best_split(left)\n",
    "        split(node['left'], max_depth, min_size, depth + 1)\n",
    "\n",
    "    # Process right child\n",
    "    if len(right) <= min_size:\n",
    "        node['right'] = to_terminal(right)\n",
    "    else:\n",
    "        node['right'] = get_best_split(right)\n",
    "        split(node['right'], max_depth, min_size, depth + 1)\n",
    "    "
   ]
  },
  {
   "cell_type": "code",
   "execution_count": 4,
   "id": "b3a197dd-e16c-45e9-b1b9-c6337420b750",
   "metadata": {},
   "outputs": [],
   "source": [
    "# Create the Tree\n",
    "def build_tree(train, max_depth, min_size):\n",
    "    \"\"\"Build a decision tree.\"\"\"\n",
    "    root = get_best_split(train)\n",
    "    split(root, max_depth, min_size, 1)\n",
    "    return root"
   ]
  },
  {
   "cell_type": "code",
   "execution_count": 5,
   "id": "a620931f-0cdb-4ec2-ab31-74cfbfc751fc",
   "metadata": {},
   "outputs": [],
   "source": [
    "# Make predictions:\n",
    "def predict(node, row):\n",
    "    if row[node['index']] < node['value']:\n",
    "        if isinstance(node['left'], dict):\n",
    "            return predict(node['left'], row)\n",
    "        else:\n",
    "            return node['left']\n",
    "    else:\n",
    "        if isinstance(node['right'], dict):\n",
    "            return predict(node['right'], row)\n",
    "        else:\n",
    "            return node['right']"
   ]
  },
  {
   "cell_type": "code",
   "execution_count": 6,
   "id": "feb71d05-f7ff-448f-9330-cef0c9979832",
   "metadata": {},
   "outputs": [
    {
     "name": "stdout",
     "output_type": "stream",
     "text": [
      "Expected=0, Predicted=0\n",
      "Expected=0, Predicted=0\n",
      "Expected=0, Predicted=0\n",
      "Expected=0, Predicted=0\n",
      "Expected=0, Predicted=0\n",
      "Expected=1, Predicted=1\n",
      "Expected=1, Predicted=1\n",
      "Expected=1, Predicted=1\n",
      "Expected=1, Predicted=1\n",
      "Expected=1, Predicted=1\n"
     ]
    }
   ],
   "source": [
    "# Example dataset\n",
    "dataset = [\n",
    "    [2.771244718, 1.784783929, 0],\n",
    "    [1.728571309, 1.169761413, 0],\n",
    "    [3.678319846, 2.81281357, 0],\n",
    "    [3.961043357, 2.61995032, 0],\n",
    "    [2.999208922, 2.209014212, 0],\n",
    "    [7.497545867, 3.162953546, 1],\n",
    "    [9.00220326, 3.339047188, 1],\n",
    "    [7.444542326, 0.476683375, 1],\n",
    "    [10.12493903, 3.234550982, 1],\n",
    "    [6.642287351, 3.319983761, 1]\n",
    "]\n",
    "\n",
    "# Build the tree\n",
    "tree = build_tree(dataset, max_depth=3, min_size=1)\n",
    "\n",
    "# Make predictions\n",
    "for row in dataset:\n",
    "    prediction = predict(tree, row)\n",
    "    print(f\"Expected={row[-1]}, Predicted={prediction}\")\n"
   ]
  },
  {
   "cell_type": "code",
   "execution_count": null,
   "id": "7694445a-0e76-4b15-8213-5ff811dbd47a",
   "metadata": {},
   "outputs": [],
   "source": []
  }
 ],
 "metadata": {
  "kernelspec": {
   "display_name": "Python (dsenv)",
   "language": "python",
   "name": "dsenv"
  },
  "language_info": {
   "codemirror_mode": {
    "name": "ipython",
    "version": 3
   },
   "file_extension": ".py",
   "mimetype": "text/x-python",
   "name": "python",
   "nbconvert_exporter": "python",
   "pygments_lexer": "ipython3",
   "version": "3.12.3"
  }
 },
 "nbformat": 4,
 "nbformat_minor": 5
}
