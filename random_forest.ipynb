{
 "cells": [
  {
   "cell_type": "code",
   "execution_count": 1,
   "id": "5e675941-02e4-4e6e-8a7a-bbdcb648acde",
   "metadata": {},
   "outputs": [],
   "source": [
    "def gini_index(groups, classes):\n",
    "    # total number of samples\n",
    "    n_instances = sum(len(group) for group in groups)\n",
    "\n",
    "    # weighted gini index for all groups\n",
    "    gini = 0.0\n",
    "    for group in groups:\n",
    "        group_size = len(group)\n",
    "        if size == 0:\n",
    "            continue\n",
    "        # calculate the score for the group\n",
    "        score = 0.0\n",
    "        for class_val in classes:\n",
    "            p = [row[-1] for row in group].count(class_val) / size\n",
    "            score += p ** 2\n",
    "        # weight by the size of the group\n",
    "        gini += (1 - score) * (group_size / n_instances)\n",
    "\n",
    "    return gini"
   ]
  },
  {
   "cell_type": "code",
   "execution_count": 2,
   "id": "7498fa82-1b95-46b5-aca8-d1f214783c8b",
   "metadata": {},
   "outputs": [],
   "source": [
    "def test_split(index, value, dataset):\n",
    "    \"\"\"Split the dataset based on an attribute and attribute value.\"\"\"\n",
    "    left, right = [], []\n",
    "    for row in dataset:\n",
    "        if row[index] < value:\n",
    "            left.append(row)\n",
    "        else:\n",
    "            right.append(row)\n",
    "    return left, right\n",
    "\n",
    "def get_best_split(dataset):\n",
    "    \"\"\"Find the best split point for a dataset.\"\"\"\n",
    "    class_values = list(set(row[-1] for row in dataset))\n",
    "    best_index, best_value, best_score, best_groups = None, None, float('inf'), None\n",
    "    for index in range(len(dataset[0]) - 1): # Exclude the header label\n",
    "        for row in dataset:\n",
    "            groups = test_split(index, row[index], dataset)\n",
    "            gini = gini_index(groups, class_values)\n",
    "            if gini < best_score:\n",
    "                best_index, best_value, best_score, best_groups = index, row[index], gini, groups\n",
    "    return {'index': best_index,\n",
    "            'value': best_value,\n",
    "            'groups': best_groups,\n",
    "           }        "
   ]
  },
  {
   "cell_type": "code",
   "execution_count": null,
   "id": "00d2357d-158b-409e-9508-4bc3535f4588",
   "metadata": {},
   "outputs": [],
   "source": []
  }
 ],
 "metadata": {
  "kernelspec": {
   "display_name": "Python (dsenv)",
   "language": "python",
   "name": "dsenv"
  },
  "language_info": {
   "codemirror_mode": {
    "name": "ipython",
    "version": 3
   },
   "file_extension": ".py",
   "mimetype": "text/x-python",
   "name": "python",
   "nbconvert_exporter": "python",
   "pygments_lexer": "ipython3",
   "version": "3.12.3"
  }
 },
 "nbformat": 4,
 "nbformat_minor": 5
}
